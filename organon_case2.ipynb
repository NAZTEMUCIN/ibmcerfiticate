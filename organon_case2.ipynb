{
  "nbformat": 4,
  "nbformat_minor": 0,
  "metadata": {
    "colab": {
      "name": "organon_case2.ipynb",
      "provenance": [],
      "collapsed_sections": [],
      "authorship_tag": "ABX9TyMek4r9bXZdtKFtzffvvyYk",
      "include_colab_link": true
    },
    "kernelspec": {
      "name": "python3",
      "display_name": "Python 3"
    }
  },
  "cells": [
    {
      "cell_type": "markdown",
      "metadata": {
        "id": "view-in-github",
        "colab_type": "text"
      },
      "source": [
        "<a href=\"https://colab.research.google.com/github/NAZTEMUCIN/ibmcerfiticate/blob/master/organon_case2.ipynb\" target=\"_parent\"><img src=\"https://colab.research.google.com/assets/colab-badge.svg\" alt=\"Open In Colab\"/></a>"
      ]
    },
    {
      "cell_type": "code",
      "metadata": {
        "id": "jiozPZ2vfShD",
        "colab_type": "code",
        "colab": {
          "base_uri": "https://localhost:8080/",
          "height": 71
        },
        "outputId": "db078df3-9eb7-471a-c6ae-3e3aa2fbec74"
      },
      "source": [
        "import pandas as pd\n",
        "import numpy as np\n",
        "from time import time\n",
        "import seaborn as sns\n",
        "from sklearn.preprocessing import MinMaxScaler\n",
        "from sklearn.model_selection import train_test_split \n",
        "from sklearn.metrics import accuracy_score\n",
        "from sklearn.metrics import fbeta_score\n",
        "from sklearn.ensemble import RandomForestClassifier\n",
        "from sklearn.naive_bayes import GaussianNB\n",
        "from sklearn.svm import SVC"
      ],
      "execution_count": 1,
      "outputs": [
        {
          "output_type": "stream",
          "text": [
            "/usr/local/lib/python3.6/dist-packages/statsmodels/tools/_testing.py:19: FutureWarning: pandas.util.testing is deprecated. Use the functions in the public API at pandas.testing instead.\n",
            "  import pandas.util.testing as tm\n"
          ],
          "name": "stderr"
        }
      ]
    },
    {
      "cell_type": "code",
      "metadata": {
        "id": "KX3RzTBZgXb9",
        "colab_type": "code",
        "colab": {
          "base_uri": "https://localhost:8080/",
          "height": 309
        },
        "outputId": "6c7b4628-6525-4340-e68f-3a2c5772a155"
      },
      "source": [
        "data = pd.read_csv('/content/2_Modelling_Question_Dataset.csv')\n",
        "data.head()"
      ],
      "execution_count": 2,
      "outputs": [
        {
          "output_type": "execute_result",
          "data": {
            "text/html": [
              "<div>\n",
              "<style scoped>\n",
              "    .dataframe tbody tr th:only-of-type {\n",
              "        vertical-align: middle;\n",
              "    }\n",
              "\n",
              "    .dataframe tbody tr th {\n",
              "        vertical-align: top;\n",
              "    }\n",
              "\n",
              "    .dataframe thead th {\n",
              "        text-align: right;\n",
              "    }\n",
              "</style>\n",
              "<table border=\"1\" class=\"dataframe\">\n",
              "  <thead>\n",
              "    <tr style=\"text-align: right;\">\n",
              "      <th></th>\n",
              "      <th>RECORD_ID</th>\n",
              "      <th>AGE</th>\n",
              "      <th>WORKCLASS</th>\n",
              "      <th>FNLWGHT</th>\n",
              "      <th>EDUCATION</th>\n",
              "      <th>EDUCATION_NUM</th>\n",
              "      <th>MARITAL_STATUS</th>\n",
              "      <th>OCCUPATION</th>\n",
              "      <th>RELATIONSHIP</th>\n",
              "      <th>RACE</th>\n",
              "      <th>SEX</th>\n",
              "      <th>CAPITAL_GAIN</th>\n",
              "      <th>CAPITAL_LOSS</th>\n",
              "      <th>HOURS_PER_WEEK</th>\n",
              "      <th>COUNTRY</th>\n",
              "      <th>PROXY</th>\n",
              "      <th>TARGET</th>\n",
              "    </tr>\n",
              "  </thead>\n",
              "  <tbody>\n",
              "    <tr>\n",
              "      <th>0</th>\n",
              "      <td>1</td>\n",
              "      <td>39</td>\n",
              "      <td>State-gov</td>\n",
              "      <td>77516</td>\n",
              "      <td>Bachelors</td>\n",
              "      <td>13</td>\n",
              "      <td>Never-married</td>\n",
              "      <td>Adm-clerical</td>\n",
              "      <td>Not-in-family</td>\n",
              "      <td>White</td>\n",
              "      <td>Male</td>\n",
              "      <td>2174</td>\n",
              "      <td>0</td>\n",
              "      <td>40</td>\n",
              "      <td>United-States</td>\n",
              "      <td>&lt;=50K</td>\n",
              "      <td>0</td>\n",
              "    </tr>\n",
              "    <tr>\n",
              "      <th>1</th>\n",
              "      <td>2</td>\n",
              "      <td>50</td>\n",
              "      <td>Self-emp-not-inc</td>\n",
              "      <td>83311</td>\n",
              "      <td>Bachelors</td>\n",
              "      <td>13</td>\n",
              "      <td>Married-civ-spouse</td>\n",
              "      <td>Exec-managerial</td>\n",
              "      <td>Husband</td>\n",
              "      <td>White</td>\n",
              "      <td>Male</td>\n",
              "      <td>0</td>\n",
              "      <td>0</td>\n",
              "      <td>13</td>\n",
              "      <td>United-States</td>\n",
              "      <td>&lt;=50K</td>\n",
              "      <td>0</td>\n",
              "    </tr>\n",
              "    <tr>\n",
              "      <th>2</th>\n",
              "      <td>3</td>\n",
              "      <td>38</td>\n",
              "      <td>Private</td>\n",
              "      <td>215646</td>\n",
              "      <td>HS-grad</td>\n",
              "      <td>9</td>\n",
              "      <td>Divorced</td>\n",
              "      <td>Handlers-cleaners</td>\n",
              "      <td>Not-in-family</td>\n",
              "      <td>White</td>\n",
              "      <td>Male</td>\n",
              "      <td>0</td>\n",
              "      <td>0</td>\n",
              "      <td>40</td>\n",
              "      <td>United-States</td>\n",
              "      <td>&lt;=50K</td>\n",
              "      <td>0</td>\n",
              "    </tr>\n",
              "    <tr>\n",
              "      <th>3</th>\n",
              "      <td>4</td>\n",
              "      <td>53</td>\n",
              "      <td>Private</td>\n",
              "      <td>234721</td>\n",
              "      <td>11th</td>\n",
              "      <td>7</td>\n",
              "      <td>Married-civ-spouse</td>\n",
              "      <td>Handlers-cleaners</td>\n",
              "      <td>Husband</td>\n",
              "      <td>Black</td>\n",
              "      <td>Male</td>\n",
              "      <td>0</td>\n",
              "      <td>0</td>\n",
              "      <td>40</td>\n",
              "      <td>United-States</td>\n",
              "      <td>&lt;=50K</td>\n",
              "      <td>0</td>\n",
              "    </tr>\n",
              "    <tr>\n",
              "      <th>4</th>\n",
              "      <td>5</td>\n",
              "      <td>28</td>\n",
              "      <td>Private</td>\n",
              "      <td>338409</td>\n",
              "      <td>Bachelors</td>\n",
              "      <td>13</td>\n",
              "      <td>Married-civ-spouse</td>\n",
              "      <td>Prof-specialty</td>\n",
              "      <td>Wife</td>\n",
              "      <td>Black</td>\n",
              "      <td>Female</td>\n",
              "      <td>0</td>\n",
              "      <td>0</td>\n",
              "      <td>40</td>\n",
              "      <td>Cuba</td>\n",
              "      <td>&lt;=50K</td>\n",
              "      <td>0</td>\n",
              "    </tr>\n",
              "  </tbody>\n",
              "</table>\n",
              "</div>"
            ],
            "text/plain": [
              "   RECORD_ID  AGE         WORKCLASS  ...        COUNTRY  PROXY  TARGET\n",
              "0          1   39         State-gov  ...  United-States  <=50K       0\n",
              "1          2   50  Self-emp-not-inc  ...  United-States  <=50K       0\n",
              "2          3   38           Private  ...  United-States  <=50K       0\n",
              "3          4   53           Private  ...  United-States  <=50K       0\n",
              "4          5   28           Private  ...           Cuba  <=50K       0\n",
              "\n",
              "[5 rows x 17 columns]"
            ]
          },
          "metadata": {
            "tags": []
          },
          "execution_count": 2
        }
      ]
    },
    {
      "cell_type": "markdown",
      "metadata": {
        "id": "tU8DkVtlpDa7",
        "colab_type": "text"
      },
      "source": [
        "EDA"
      ]
    },
    {
      "cell_type": "code",
      "metadata": {
        "id": "BSljfjTwghk6",
        "colab_type": "code",
        "colab": {
          "base_uri": "https://localhost:8080/",
          "height": 85
        },
        "outputId": "a55ca220-4311-41bd-b8ee-e053d573a0da"
      },
      "source": [
        "# Total number of data\n",
        "n_records = data.shape[0]\n",
        "print('numberof_records:',n_records)\n",
        "# Number of data where people's income is more than $50,000\n",
        "n_greater_50k = data[data['PROXY'] == '>50K'].shape[0]\n",
        "print('income_greater_50k:',n_greater_50k)\n",
        "# Number of data where people's income is at most $50,000\n",
        "n_at_most_50k = data[data['PROXY'] == '<=50K'].shape[0]\n",
        "print('income_at_most_50k:',n_at_most_50k)\n",
        "# Percentage of people whose income is more than $50,000\n",
        "greater_percent = (n_greater_50k / n_records) * 100\n",
        "print('greater_percentage:',greater_percent)"
      ],
      "execution_count": 3,
      "outputs": [
        {
          "output_type": "stream",
          "text": [
            "numberof_records: 32561\n",
            "income_greater_50k: 7841\n",
            "income_at_most_50k: 24720\n",
            "greater_percentage: 24.080955744602438\n"
          ],
          "name": "stdout"
        }
      ]
    },
    {
      "cell_type": "code",
      "metadata": {
        "id": "wsbUtTx2onf9",
        "colab_type": "code",
        "colab": {
          "base_uri": "https://localhost:8080/",
          "height": 302
        },
        "outputId": "1b3680a5-9f8c-4a58-9d46-86724d10e0a2"
      },
      "source": [
        "sns.set(color_codes=True)\n",
        "sns.distplot(data['CAPITAL_GAIN'])"
      ],
      "execution_count": 4,
      "outputs": [
        {
          "output_type": "execute_result",
          "data": {
            "text/plain": [
              "<matplotlib.axes._subplots.AxesSubplot at 0x7f1bf41cd320>"
            ]
          },
          "metadata": {
            "tags": []
          },
          "execution_count": 4
        },
        {
          "output_type": "display_data",
          "data": {
            "image/png": "[encoded data removed]",
            "text/plain": [
              "<Figure size 432x288 with 1 Axes>"
            ]
          },
          "metadata": {
            "tags": []
          }
        }
      ]
    },
    {
      "cell_type": "code",
      "metadata": {
        "id": "WphLTZrLqOrv",
        "colab_type": "code",
        "colab": {
          "base_uri": "https://localhost:8080/",
          "height": 302
        },
        "outputId": "fce3d927-1cea-4ba1-f8f6-487eefb6ee50"
      },
      "source": [
        "sns.distplot(data['CAPITAL_LOSS'])"
      ],
      "execution_count": 5,
      "outputs": [
        {
          "output_type": "execute_result",
          "data": {
            "text/plain": [
              "<matplotlib.axes._subplots.AxesSubplot at 0x7f1bf41b4fd0>"
            ]
          },
          "metadata": {
            "tags": []
          },
          "execution_count": 5
        },
        {
          "output_type": "display_data",
          "data": {
            "image/png": "[encoded data removed]",
            "text/plain": [
              "<Figure size 432x288 with 1 Axes>"
            ]
          },
          "metadata": {
            "tags": []
          }
        }
      ]
    },
    {
      "cell_type": "markdown",
      "metadata": {
        "id": "pZy60KR9vwn0",
        "colab_type": "text"
      },
      "source": [
        "Split the data into features and target label"
      ]
    },
    {
      "cell_type": "code",
      "metadata": {
        "id": "s5SndLTDq2le",
        "colab_type": "code",
        "colab": {}
      },
      "source": [
        "income_raw = data['PROXY']\n",
        "features_raw = data.drop('PROXY', axis = 1)"
      ],
      "execution_count": 0,
      "outputs": []
    },
    {
      "cell_type": "markdown",
      "metadata": {
        "id": "Fcrx4C1_vkbr",
        "colab_type": "text"
      },
      "source": [
        "Log-transform the skewed features. For this type of disttributions, is very typical to apply logarithmic transformationon the data, so the outliers do not affect negatively the machine learning model’s performance."
      ]
    },
    {
      "cell_type": "code",
      "metadata": {
        "id": "0SJyJMSdtOHN",
        "colab_type": "code",
        "colab": {
          "base_uri": "https://localhost:8080/",
          "height": 302
        },
        "outputId": "9e106d8b-a1c2-4772-945a-8c7bba49cdc4"
      },
      "source": [
        "skewed = ['CAPITAL_GAIN', 'CAPITAL_LOSS']\n",
        "features_log_transformed = pd.DataFrame(data = features_raw)\n",
        "features_log_transformed[skewed] = features_raw[skewed].apply(lambda x: np.log(x + 1))\n",
        "\n",
        "sns.distplot(features_log_transformed[\"CAPITAL_GAIN\"])"
      ],
      "execution_count": 7,
      "outputs": [
        {
          "output_type": "execute_result",
          "data": {
            "text/plain": [
              "<matplotlib.axes._subplots.AxesSubplot at 0x7f1bf3b5fb70>"
            ]
          },
          "metadata": {
            "tags": []
          },
          "execution_count": 7
        },
        {
          "output_type": "display_data",
          "data": {
            "image/png": "[encoded data removed]",
            "text/plain": [
              "<Figure size 432x288 with 1 Axes>"
            ]
          },
          "metadata": {
            "tags": []
          }
        }
      ]
    },
    {
      "cell_type": "code",
      "metadata": {
        "id": "KBLN_8r9uxDC",
        "colab_type": "code",
        "colab": {
          "base_uri": "https://localhost:8080/",
          "height": 302
        },
        "outputId": "3a6e65a4-02aa-4f0c-d143-00064290050b"
      },
      "source": [
        "sns.distplot(features_log_transformed[\"CAPITAL_LOSS\"])"
      ],
      "execution_count": 8,
      "outputs": [
        {
          "output_type": "execute_result",
          "data": {
            "text/plain": [
              "<matplotlib.axes._subplots.AxesSubplot at 0x7f1bf3b49f28>"
            ]
          },
          "metadata": {
            "tags": []
          },
          "execution_count": 8
        },
        {
          "output_type": "display_data",
          "data": {
            "image/png": "[encoded data removed]",
            "text/plain": [
              "<Figure size 432x288 with 1 Axes>"
            ]
          },
          "metadata": {
            "tags": []
          }
        }
      ]
    },
    {
      "cell_type": "code",
      "metadata": {
        "id": "84iyYb4hu8Fh",
        "colab_type": "code",
        "colab": {
          "base_uri": "https://localhost:8080/",
          "height": 309
        },
        "outputId": "fedc166c-c449-4699-e282-4b8571cdccab"
      },
      "source": [
        "scaler = MinMaxScaler()\n",
        "scaled_variables = ['AGE', 'EDUCATION_NUM', 'CAPITAL_GAIN', 'CAPITAL_LOSS', 'HOURS_PER_WEEK']\n",
        "features_log_minmax_transform = pd.DataFrame(data = features_log_transformed)\n",
        "features_log_minmax_transform[scaled_variables] = scaler.fit_transform(features_log_transformed[scaled_variables])\n",
        "\n",
        "# Scaled\n",
        "display(features_log_minmax_transform.head(n = 5))"
      ],
      "execution_count": 9,
      "outputs": [
        {
          "output_type": "display_data",
          "data": {
            "text/html": [
              "<div>\n",
              "<style scoped>\n",
              "    .dataframe tbody tr th:only-of-type {\n",
              "        vertical-align: middle;\n",
              "    }\n",
              "\n",
              "    .dataframe tbody tr th {\n",
              "        vertical-align: top;\n",
              "    }\n",
              "\n",
              "    .dataframe thead th {\n",
              "        text-align: right;\n",
              "    }\n",
              "</style>\n",
              "<table border=\"1\" class=\"dataframe\">\n",
              "  <thead>\n",
              "    <tr style=\"text-align: right;\">\n",
              "      <th></th>\n",
              "      <th>RECORD_ID</th>\n",
              "      <th>AGE</th>\n",
              "      <th>WORKCLASS</th>\n",
              "      <th>FNLWGHT</th>\n",
              "      <th>EDUCATION</th>\n",
              "      <th>EDUCATION_NUM</th>\n",
              "      <th>MARITAL_STATUS</th>\n",
              "      <th>OCCUPATION</th>\n",
              "      <th>RELATIONSHIP</th>\n",
              "      <th>RACE</th>\n",
              "      <th>SEX</th>\n",
              "      <th>CAPITAL_GAIN</th>\n",
              "      <th>CAPITAL_LOSS</th>\n",
              "      <th>HOURS_PER_WEEK</th>\n",
              "      <th>COUNTRY</th>\n",
              "      <th>TARGET</th>\n",
              "    </tr>\n",
              "  </thead>\n",
              "  <tbody>\n",
              "    <tr>\n",
              "      <th>0</th>\n",
              "      <td>1</td>\n",
              "      <td>0.301370</td>\n",
              "      <td>State-gov</td>\n",
              "      <td>77516</td>\n",
              "      <td>Bachelors</td>\n",
              "      <td>0.800000</td>\n",
              "      <td>Never-married</td>\n",
              "      <td>Adm-clerical</td>\n",
              "      <td>Not-in-family</td>\n",
              "      <td>White</td>\n",
              "      <td>Male</td>\n",
              "      <td>0.667492</td>\n",
              "      <td>0.0</td>\n",
              "      <td>0.397959</td>\n",
              "      <td>United-States</td>\n",
              "      <td>0</td>\n",
              "    </tr>\n",
              "    <tr>\n",
              "      <th>1</th>\n",
              "      <td>2</td>\n",
              "      <td>0.452055</td>\n",
              "      <td>Self-emp-not-inc</td>\n",
              "      <td>83311</td>\n",
              "      <td>Bachelors</td>\n",
              "      <td>0.800000</td>\n",
              "      <td>Married-civ-spouse</td>\n",
              "      <td>Exec-managerial</td>\n",
              "      <td>Husband</td>\n",
              "      <td>White</td>\n",
              "      <td>Male</td>\n",
              "      <td>0.000000</td>\n",
              "      <td>0.0</td>\n",
              "      <td>0.122449</td>\n",
              "      <td>United-States</td>\n",
              "      <td>0</td>\n",
              "    </tr>\n",
              "    <tr>\n",
              "      <th>2</th>\n",
              "      <td>3</td>\n",
              "      <td>0.287671</td>\n",
              "      <td>Private</td>\n",
              "      <td>215646</td>\n",
              "      <td>HS-grad</td>\n",
              "      <td>0.533333</td>\n",
              "      <td>Divorced</td>\n",
              "      <td>Handlers-cleaners</td>\n",
              "      <td>Not-in-family</td>\n",
              "      <td>White</td>\n",
              "      <td>Male</td>\n",
              "      <td>0.000000</td>\n",
              "      <td>0.0</td>\n",
              "      <td>0.397959</td>\n",
              "      <td>United-States</td>\n",
              "      <td>0</td>\n",
              "    </tr>\n",
              "    <tr>\n",
              "      <th>3</th>\n",
              "      <td>4</td>\n",
              "      <td>0.493151</td>\n",
              "      <td>Private</td>\n",
              "      <td>234721</td>\n",
              "      <td>11th</td>\n",
              "      <td>0.400000</td>\n",
              "      <td>Married-civ-spouse</td>\n",
              "      <td>Handlers-cleaners</td>\n",
              "      <td>Husband</td>\n",
              "      <td>Black</td>\n",
              "      <td>Male</td>\n",
              "      <td>0.000000</td>\n",
              "      <td>0.0</td>\n",
              "      <td>0.397959</td>\n",
              "      <td>United-States</td>\n",
              "      <td>0</td>\n",
              "    </tr>\n",
              "    <tr>\n",
              "      <th>4</th>\n",
              "      <td>5</td>\n",
              "      <td>0.150685</td>\n",
              "      <td>Private</td>\n",
              "      <td>338409</td>\n",
              "      <td>Bachelors</td>\n",
              "      <td>0.800000</td>\n",
              "      <td>Married-civ-spouse</td>\n",
              "      <td>Prof-specialty</td>\n",
              "      <td>Wife</td>\n",
              "      <td>Black</td>\n",
              "      <td>Female</td>\n",
              "      <td>0.000000</td>\n",
              "      <td>0.0</td>\n",
              "      <td>0.397959</td>\n",
              "      <td>Cuba</td>\n",
              "      <td>0</td>\n",
              "    </tr>\n",
              "  </tbody>\n",
              "</table>\n",
              "</div>"
            ],
            "text/plain": [
              "   RECORD_ID       AGE         WORKCLASS  ...  HOURS_PER_WEEK        COUNTRY  TARGET\n",
              "0          1  0.301370         State-gov  ...        0.397959  United-States       0\n",
              "1          2  0.452055  Self-emp-not-inc  ...        0.122449  United-States       0\n",
              "2          3  0.287671           Private  ...        0.397959  United-States       0\n",
              "3          4  0.493151           Private  ...        0.397959  United-States       0\n",
              "4          5  0.150685           Private  ...        0.397959           Cuba       0\n",
              "\n",
              "[5 rows x 16 columns]"
            ]
          },
          "metadata": {
            "tags": []
          }
        }
      ]
    },
    {
      "cell_type": "markdown",
      "metadata": {
        "id": "4NlCkaFex99X",
        "colab_type": "text"
      },
      "source": [
        "Preprocessing Categorial Features\n",
        "\n",
        "Converging categorical variables to numeric \n"
      ]
    },
    {
      "cell_type": "code",
      "metadata": {
        "id": "Lctz7t4axtMy",
        "colab_type": "code",
        "colab": {
          "base_uri": "https://localhost:8080/",
          "height": 88
        },
        "outputId": "c0874410-a49d-47f4-a5f6-0772a8bacc3d"
      },
      "source": [
        "# Encode the 'income_raw' data to numerical values\n",
        "income = income_raw.map({'<=50K':0,'>50K':1})\n",
        "print('Number of data: ',n_records)\n",
        "# One-hot encode the 'features_log_minmax_transform' data \n",
        "features_final = pd.get_dummies(features_log_minmax_transform)\n",
        "encoded = list(features_final.columns)\n",
        "print(\"{} total features after one-hot encoding.\".format(len(encoded)))\n",
        "print (encoded)"
      ],
      "execution_count": 10,
      "outputs": [
        {
          "output_type": "stream",
          "text": [
            "Number of data:  32561\n",
            "110 total features after one-hot encoding.\n",
            "['RECORD_ID', 'AGE', 'FNLWGHT', 'EDUCATION_NUM', 'CAPITAL_GAIN', 'CAPITAL_LOSS', 'HOURS_PER_WEEK', 'TARGET', 'WORKCLASS_?', 'WORKCLASS_Federal-gov', 'WORKCLASS_Local-gov', 'WORKCLASS_Never-worked', 'WORKCLASS_Private', 'WORKCLASS_Self-emp-inc', 'WORKCLASS_Self-emp-not-inc', 'WORKCLASS_State-gov', 'WORKCLASS_Without-pay', 'EDUCATION_10th', 'EDUCATION_11th', 'EDUCATION_12th', 'EDUCATION_1st-4th', 'EDUCATION_5th-6th', 'EDUCATION_7th-8th', 'EDUCATION_9th', 'EDUCATION_Assoc-acdm', 'EDUCATION_Assoc-voc', 'EDUCATION_Bachelors', 'EDUCATION_Doctorate', 'EDUCATION_HS-grad', 'EDUCATION_Masters', 'EDUCATION_Preschool', 'EDUCATION_Prof-school', 'EDUCATION_Some-college', 'MARITAL_STATUS_Divorced', 'MARITAL_STATUS_Married-AF-spouse', 'MARITAL_STATUS_Married-civ-spouse', 'MARITAL_STATUS_Married-spouse-absent', 'MARITAL_STATUS_Never-married', 'MARITAL_STATUS_Separated', 'MARITAL_STATUS_Widowed', 'OCCUPATION_?', 'OCCUPATION_Adm-clerical', 'OCCUPATION_Armed-Forces', 'OCCUPATION_Craft-repair', 'OCCUPATION_Exec-managerial', 'OCCUPATION_Farming-fishing', 'OCCUPATION_Handlers-cleaners', 'OCCUPATION_Machine-op-inspct', 'OCCUPATION_Other-service', 'OCCUPATION_Priv-house-serv', 'OCCUPATION_Prof-specialty', 'OCCUPATION_Protective-serv', 'OCCUPATION_Sales', 'OCCUPATION_Tech-support', 'OCCUPATION_Transport-moving', 'RELATIONSHIP_Husband', 'RELATIONSHIP_Not-in-family', 'RELATIONSHIP_Other-relative', 'RELATIONSHIP_Own-child', 'RELATIONSHIP_Unmarried', 'RELATIONSHIP_Wife', 'RACE_Amer-Indian-Eskimo', 'RACE_Asian-Pac-Islander', 'RACE_Black', 'RACE_Other', 'RACE_White', 'SEX_Female', 'SEX_Male', 'COUNTRY_?', 'COUNTRY_Cambodia', 'COUNTRY_Canada', 'COUNTRY_China', 'COUNTRY_Columbia', 'COUNTRY_Cuba', 'COUNTRY_Dominican-Republic', 'COUNTRY_Ecuador', 'COUNTRY_El-Salvador', 'COUNTRY_England', 'COUNTRY_France', 'COUNTRY_Germany', 'COUNTRY_Greece', 'COUNTRY_Guatemala', 'COUNTRY_Haiti', 'COUNTRY_Holand-Netherlands', 'COUNTRY_Honduras', 'COUNTRY_Hong', 'COUNTRY_Hungary', 'COUNTRY_India', 'COUNTRY_Iran', 'COUNTRY_Ireland', 'COUNTRY_Italy', 'COUNTRY_Jamaica', 'COUNTRY_Japan', 'COUNTRY_Laos', 'COUNTRY_Mexico', 'COUNTRY_Nicaragua', 'COUNTRY_Outlying-US(Guam-USVI-etc)', 'COUNTRY_Peru', 'COUNTRY_Philippines', 'COUNTRY_Poland', 'COUNTRY_Portugal', 'COUNTRY_Puerto-Rico', 'COUNTRY_Scotland', 'COUNTRY_South', 'COUNTRY_Taiwan', 'COUNTRY_Thailand', 'COUNTRY_Trinadad&Tobago', 'COUNTRY_United-States', 'COUNTRY_Vietnam', 'COUNTRY_Yugoslavia']\n"
          ],
          "name": "stdout"
        }
      ]
    },
    {
      "cell_type": "markdown",
      "metadata": {
        "id": "fVWU0YjTD6J9",
        "colab_type": "text"
      },
      "source": [
        "Naive Predictor Performance"
      ]
    },
    {
      "cell_type": "code",
      "metadata": {
        "id": "Qe1yjEEczRka",
        "colab_type": "code",
        "colab": {
          "base_uri": "https://localhost:8080/",
          "height": 34
        },
        "outputId": "088bf264-9ca5-4af5-b4da-5de57adb91b7"
      },
      "source": [
        "true_positive = np.sum(income)\n",
        "false_positive = income.count() - true_positive\n",
        "true_negative = 0\n",
        "false_negative = 0\n",
        "beta = 0.5\n",
        "accuracy  = true_positive / (true_positive + false_positive + true_negative + false_negative )\n",
        "recall = true_positive / (true_positive + false_negative)\n",
        "precision = true_positive / (true_positive + false_positive)\n",
        "fscore = (1 + beta**2) * ((precision * recall) / ((beta**2) * precision + recall))\n",
        "print(\"Naive Predictor: [Accuracy score: {:.4f}, F-score: {:.4f}]\".format(accuracy, fscore))"
      ],
      "execution_count": 11,
      "outputs": [
        {
          "output_type": "stream",
          "text": [
            "Naive Predictor: [Accuracy score: 0.2408, F-score: 0.2839]\n"
          ],
          "name": "stdout"
        }
      ]
    },
    {
      "cell_type": "markdown",
      "metadata": {
        "id": "oLUAc5IrznK-",
        "colab_type": "text"
      },
      "source": [
        "Split train and test data"
      ]
    },
    {
      "cell_type": "code",
      "metadata": {
        "id": "U2EhLMwKzmdv",
        "colab_type": "code",
        "colab": {
          "base_uri": "https://localhost:8080/",
          "height": 51
        },
        "outputId": "7ed25707-4069-4647-c8cd-ecfafdf1cd6e"
      },
      "source": [
        "X_train, X_test, y_train, y_test = train_test_split(features_final, income, test_size = 0.2, random_state = 0)  \n",
        "print(\"Training set has {} samples.\".format(X_train.shape[0])) \n",
        "print(\"Testing set has {} samples.\".format(X_test.shape[0]))"
      ],
      "execution_count": 12,
      "outputs": [
        {
          "output_type": "stream",
          "text": [
            "Training set has 26048 samples.\n",
            "Testing set has 6513 samples.\n"
          ],
          "name": "stdout"
        }
      ]
    },
    {
      "cell_type": "code",
      "metadata": {
        "id": "5BhiAXeJLcvw",
        "colab_type": "code",
        "colab": {}
      },
      "source": [
        "def train_predict(learner, sample_size, X_train, y_train, X_test, y_test): \n",
        "\n",
        "  # Calculate the number of samples for 1%, 10%, 50% and 100% of the training data\n",
        "  size_options = [sample_size, int(sample_size/2), int(sample_size/10),int(sample_size/100)]\n",
        "  for sample_size in size_options:\n",
        "    learner = learner.fit(X_train[:sample_size], y_train[:sample_size])\n",
        "    predictions_test = learner.predict(X_test)\n",
        "    predictions_train = learner.predict(X_train)\n",
        "    results['acc_train'] = accuracy_score(y_train, predictions_train)\n",
        "    results['acc_test'] = accuracy_score(y_test, predictions_test)\n",
        "    results['f_train'] = fbeta_score(y_train, predictions_train, beta=0.5)\n",
        "    results['f_test'] = fbeta_score(y_test, predictions_test, beta=0.5)\n",
        "    print(\"{} trained on {} samples.\".format(learner.__class__.__name__, sample_size))\n",
        "    print(\"{} has training accuracy score: {}\".format(learner.__class__.__name__, results['acc_train']))\n",
        "    print(\"{} has test accuracy score: {}\".format(learner.__class__.__name__, results['acc_test']))\n",
        "    print(\"{} train set F-Score: {}\".format(learner.__class__.__name__, results['f_train']))\n",
        "    print(\"{} test set F-Score: {}\".format(learner.__class__.__name__, results['f_test']))\n",
        "    print(\"------------------------------\")\n",
        "  return results"
      ],
      "execution_count": 0,
      "outputs": []
    },
    {
      "cell_type": "code",
      "metadata": {
        "id": "JIjKrd-10Y2f",
        "colab_type": "code",
        "colab": {
          "base_uri": "https://localhost:8080/",
          "height": 1000
        },
        "outputId": "cf606dce-4094-415f-fde2-229cb4613647"
      },
      "source": [
        "# Initialize the three models\n",
        "random_state = 42\n",
        "sample_size = len(y_train)\n",
        "clf_A = RandomForestClassifier(random_state=random_state)\n",
        "clf_B = GaussianNB()\n",
        "clf_C = SVC(random_state=random_state)\n",
        "results = {}\n",
        "for clf in [clf_A, clf_B, clf_C]:\n",
        "  start = time() # Get start time to measure performance\n",
        "  results[clf] = train_predict(clf, sample_size, X_train, y_train, X_test, y_test)\n",
        "  end = time()\n",
        "  total_time = end-start\n",
        "  print('{} training time: {}'.format(clf.__class__.__name__,total_time))\n",
        "  print('*********************************************')\n"
      ],
      "execution_count": 14,
      "outputs": [
        {
          "output_type": "stream",
          "text": [
            "RandomForestClassifier trained on 26048 samples.\n",
            "RandomForestClassifier has training accuracy score: 1.0\n",
            "RandomForestClassifier has test accuracy score: 1.0\n",
            "RandomForestClassifier train set F-Score: 1.0\n",
            "RandomForestClassifier test set F-Score: 1.0\n",
            "------------------------------\n",
            "RandomForestClassifier trained on 13024 samples.\n",
            "RandomForestClassifier has training accuracy score: 1.0\n",
            "RandomForestClassifier has test accuracy score: 1.0\n",
            "RandomForestClassifier train set F-Score: 1.0\n",
            "RandomForestClassifier test set F-Score: 1.0\n",
            "------------------------------\n",
            "RandomForestClassifier trained on 2604 samples.\n",
            "RandomForestClassifier has training accuracy score: 1.0\n",
            "RandomForestClassifier has test accuracy score: 1.0\n",
            "RandomForestClassifier train set F-Score: 1.0\n",
            "RandomForestClassifier test set F-Score: 1.0\n",
            "------------------------------\n",
            "RandomForestClassifier trained on 260 samples.\n",
            "RandomForestClassifier has training accuracy score: 1.0\n",
            "RandomForestClassifier has test accuracy score: 1.0\n",
            "RandomForestClassifier train set F-Score: 1.0\n",
            "RandomForestClassifier test set F-Score: 1.0\n",
            "------------------------------\n",
            "RandomForestClassifier training time: 3.167268991470337\n",
            "*********************************************\n",
            "GaussianNB trained on 26048 samples.\n",
            "GaussianNB has training accuracy score: 0.9992321867321867\n",
            "GaussianNB has test accuracy score: 0.9993858436972209\n",
            "GaussianNB train set F-Score: 0.9978214205619452\n",
            "GaussianNB test set F-Score: 0.9987562189054726\n",
            "------------------------------\n",
            "GaussianNB trained on 13024 samples.\n",
            "GaussianNB has training accuracy score: 0.99942414004914\n",
            "GaussianNB has test accuracy score: 0.9995393827729157\n",
            "GaussianNB train set F-Score: 0.9985569985569986\n",
            "GaussianNB test set F-Score: 0.998881153654898\n",
            "------------------------------\n",
            "GaussianNB trained on 2604 samples.\n",
            "GaussianNB has training accuracy score: 0.9992705773955773\n",
            "GaussianNB has test accuracy score: 0.9992323046215261\n",
            "GaussianNB train set F-Score: 0.9977582065652522\n",
            "GaussianNB test set F-Score: 0.9978887232985593\n",
            "------------------------------\n",
            "GaussianNB trained on 260 samples.\n",
            "GaussianNB has training accuracy score: 0.9988098894348895\n",
            "GaussianNB has test accuracy score: 0.9990787655458314\n",
            "GaussianNB train set F-Score: 0.9962267770920602\n",
            "GaussianNB test set F-Score: 0.9970238095238094\n",
            "------------------------------\n",
            "GaussianNB training time: 0.3086421489715576\n",
            "*********************************************\n",
            "SVC trained on 26048 samples.\n",
            "SVC has training accuracy score: 0.9951243857493858\n",
            "SVC has test accuracy score: 0.9964686012590204\n",
            "SVC train set F-Score: 0.9928814107749555\n",
            "SVC test set F-Score: 0.9948724362181092\n",
            "------------------------------\n",
            "SVC trained on 13024 samples.\n",
            "SVC has training accuracy score: 0.9917076167076168\n",
            "SVC has test accuracy score: 0.9933978197451251\n",
            "SVC train set F-Score: 0.987417498455636\n",
            "SVC test set F-Score: 0.991183879093199\n",
            "------------------------------\n",
            "SVC trained on 2604 samples.\n",
            "SVC has training accuracy score: 0.9683277027027027\n",
            "SVC has test accuracy score: 0.9683709504068786\n",
            "SVC train set F-Score: 0.9703929660864885\n",
            "SVC test set F-Score: 0.9714523281596453\n",
            "------------------------------\n",
            "SVC trained on 260 samples.\n",
            "SVC has training accuracy score: 0.760710995085995\n",
            "SVC has test accuracy score: 0.753109166282819\n",
            "SVC train set F-Score: 0.0\n",
            "SVC test set F-Score: 0.0\n",
            "------------------------------\n",
            "SVC training time: 106.68410730361938\n",
            "*********************************************\n"
          ],
          "name": "stdout"
        }
      ]
    },
    {
      "cell_type": "markdown",
      "metadata": {
        "id": "irCg730CZL__",
        "colab_type": "text"
      },
      "source": [
        "Based on the results of the evaluation;\n",
        "1. Random Forest Classifier and Support Vector Machine models are the most appropiate models to identify potential donors according to their F-Scores.\n",
        "2. Random Forest Classifier performs almost 30 times faster than SVM.\n",
        "\n",
        "To sum up, the best model for this data set is Random Forest Classifier.\n"
      ]
    },
    {
      "cell_type": "code",
      "metadata": {
        "id": "_H-mb5Y-eWwx",
        "colab_type": "code",
        "colab": {}
      },
      "source": [
        "from sklearn.ensemble import AdaBoostClassifier\n",
        "\n",
        "# Train the supervised model on the training \n",
        "model = AdaBoostClassifier().fit(X_train, y_train)\n",
        "\n",
        "# Extract the feature importances using .feature_importances_ \n",
        "importances = model.feature_importances_"
      ],
      "execution_count": 0,
      "outputs": []
    },
    {
      "cell_type": "code",
      "metadata": {
        "id": "JVxwzQXjiBtQ",
        "colab_type": "code",
        "colab": {
          "base_uri": "https://localhost:8080/",
          "height": 136
        },
        "outputId": "b4fbe544-07c5-4204-e545-20906bdd112f"
      },
      "source": [
        "importances"
      ],
      "execution_count": 16,
      "outputs": [
        {
          "output_type": "execute_result",
          "data": {
            "text/plain": [
              "array([1., 0., 0., 0., 0., 0., 0., 0., 0., 0., 0., 0., 0., 0., 0., 0., 0.,\n",
              "       0., 0., 0., 0., 0., 0., 0., 0., 0., 0., 0., 0., 0., 0., 0., 0., 0.,\n",
              "       0., 0., 0., 0., 0., 0., 0., 0., 0., 0., 0., 0., 0., 0., 0., 0., 0.,\n",
              "       0., 0., 0., 0., 0., 0., 0., 0., 0., 0., 0., 0., 0., 0., 0., 0., 0.,\n",
              "       0., 0., 0., 0., 0., 0., 0., 0., 0., 0., 0., 0., 0., 0., 0., 0., 0.,\n",
              "       0., 0., 0., 0., 0., 0., 0., 0., 0., 0., 0., 0., 0., 0., 0., 0., 0.,\n",
              "       0., 0., 0., 0., 0., 0., 0., 0.])"
            ]
          },
          "metadata": {
            "tags": []
          },
          "execution_count": 16
        }
      ]
    },
    {
      "cell_type": "code",
      "metadata": {
        "id": "BnvofUJNiBwh",
        "colab_type": "code",
        "colab": {}
      },
      "source": [
        ""
      ],
      "execution_count": 0,
      "outputs": []
    },
    {
      "cell_type": "code",
      "metadata": {
        "id": "ji_12wFxpTZq",
        "colab_type": "code",
        "colab": {}
      },
      "source": [
        ""
      ],
      "execution_count": 0,
      "outputs": []
    }
  ]
}